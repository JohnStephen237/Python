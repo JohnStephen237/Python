{
 "cells": [
  {
   "cell_type": "code",
   "execution_count": null,
   "id": "a4ef60c2-01ad-4c50-bb6b-7f78723d24df",
   "metadata": {},
   "outputs": [],
   "source": []
  }
 ],
 "metadata": {
  "kernelspec": {
   "display_name": "",
   "name": ""
  },
  "language_info": {
   "name": ""
  }
 },
 "nbformat": 4,
 "nbformat_minor": 5
}
